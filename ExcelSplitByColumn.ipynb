{
 "cells": [
  {
   "cell_type": "markdown",
   "metadata": {},
   "source": [
    "Split Spreadsheet by column\n",
    "Used to create a seperate spreadsheet based upon a unique value in a column.\n",
    "Created by Jeff Erwin, GIS Analyst R09 GIS Program, jeffrey.erwin@usda.gov"
   ]
  },
  {
   "cell_type": "code",
   "execution_count": 1,
   "metadata": {},
   "outputs": [],
   "source": [
    "import pandas as pd\n",
    "import openpyxl\n",
    "import os"
   ]
  },
  {
   "cell_type": "code",
   "execution_count": 2,
   "metadata": {},
   "outputs": [
    {
     "name": "stdout",
     "output_type": "stream",
     "text": [
      "Output Folder Path:T:\\FS\\NFS\\R09\\Collaboration\\BatAssessmentR9R8\\BCS Bat Locational Data Call\\ProjectAreaDataCall\\Spreadsheets\n",
      "Input Spreadsheet path:T:\\FS\\NFS\\R09\\Collaboration\\BatAssessmentR9R8\\BCS Bat Locational Data Call\\ProjectAreaDataCall\\Spreadsheets\\TCBSpatialDataCallV1.xlsx\n"
     ]
    },
    {
     "name": "stderr",
     "output_type": "stream",
     "text": [
      "C:\\Program Files\\ArcGIS\\Pro\\bin\\Python\\envs\\arcgispro-py3\\lib\\site-packages\\openpyxl\\worksheet\\header_footer.py:48: UserWarning: Cannot parse header or footer so it will be ignored\n",
      "  warn(\"\"\"Cannot parse header or footer so it will be ignored\"\"\")\n"
     ]
    },
    {
     "name": "stdout",
     "output_type": "stream",
     "text": [
      "Column NameForest\n",
      "['Green Mountain and Finger Lakes National Forests'\n",
      " 'Hoosier National Forest' 'Wayne National Forest'\n",
      " 'Mark Twain National Forest' 'National Forests in Mississippi'\n",
      " 'National Forests in Alabama' 'Allegheny National Forest'\n",
      " 'Huron-Manistee National Forest' 'Hiawatha National Forest'\n",
      " 'Ottawa National Forest' 'Daniel Boone National Forest'\n",
      " 'Kisatchie National Forest'\n",
      " 'George Washington and Jefferson National Forest'\n",
      " 'National Forests in Texas' 'White Mountain National Forest'\n",
      " 'Chequamegon-Nicolet National Forest'\n",
      " 'Chattahoochee-Oconee National Forests'\n",
      " 'Midewin National Tallgrass Prairie'\n",
      " 'Land Between the Lakes National Recreation Area'\n",
      " 'National Forests in North Carolina'\n",
      " 'Francis Marion and Sumter National Forests' 'Superior National Forest'\n",
      " 'Cherokee National Forest' 'National Forests in Florida'\n",
      " 'Monongahela National Forest']\n"
     ]
    },
    {
     "name": "stderr",
     "output_type": "stream",
     "text": [
      "C:\\Program Files\\ArcGIS\\Pro\\bin\\Python\\envs\\arcgispro-py3\\lib\\site-packages\\openpyxl\\workbook\\child.py:99: UserWarning: Title is more than 31 characters. Some applications may not be able to read the file\n",
      "  warnings.warn(\"Title is more than 31 characters. Some applications may not be able to read the file\")\n"
     ]
    }
   ],
   "source": [
    "import pandas as pd\n",
    "import openpyxl\n",
    "import os\n",
    "\n",
    "folderPath = input(\"Output Folder Path:\")\n",
    "spreadsheetPath =input(\"Input Spreadsheet path:\")\n",
    "df = pd.read_excel(spreadsheetPath)\n",
    "column_name = input(\"Column Name\")\n",
    "unique_values = df[column_name].unique()\n",
    "print (unique_values)\n",
    "\n",
    "for unique_value in unique_values:\n",
    "    df_output =df[df[column_name].str.contains(unique_value)]\n",
    "    output_path = os.path.join(folderPath, unique_value + '.xlsx')\n",
    "    df_output.to_excel(output_path, sheet_name=unique_value, index=False)"
   ]
  }
 ],
 "metadata": {
  "kernelspec": {
   "display_name": "ArcGISPro",
   "language": "Python",
   "name": "python3"
  },
  "language_info": {
   "file_extension": ".py",
   "name": "python",
   "version": "3"
  }
 },
 "nbformat": 4,
 "nbformat_minor": 2
}
