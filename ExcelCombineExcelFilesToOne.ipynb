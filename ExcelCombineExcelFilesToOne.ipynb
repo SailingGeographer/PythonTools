{
 "cells": [
  {
   "cell_type": "markdown",
   "metadata": {},
   "source": [
    "Combine separate excel files into one sheet in one file. Jeff Erwin R9 GIS Program\n",
    "1. Select \"Run\"\n",
    "2. Enter folder path that contains the spreadsheets *Note - all spreadsheets must be identical in setup for script to work until I can figure out and exception code...\n",
    "3. Enter output folder that is diffrent from the input folder *See above...\n",
    "4. Enter the sheet name in the spreadsheets that you want to combine\n",
    "5. Enter the file name you would like with .xlsx at the end"
   ]
  },
  {
   "cell_type": "code",
   "execution_count": null,
   "metadata": {
    "scrolled": true
   },
   "outputs": [],
   "source": [
    "import os\n",
    "import pandas as pd\n",
    "\n",
    "dataFileFolder = input(\"FolderPath:\")\n",
    "dataOutputFolder = input(\"Output Folder:\")\n",
    "sheetName = input(\"Enter Sheet Name:\")\n",
    "masterFile = input(\"Enter File Name(Include .xlsx in filename):\")\n",
    "\n",
    "df = []\n",
    "for file in os.listdir(dataFileFolder):\n",
    "    if file.endswith('.xlsx'):\n",
    "        print('Loading file {0}.....'.format(file))\n",
    "        df.append(pd.read_excel(os.path.join(dataFileFolder, file), sheet_name=sheetName))\n",
    "len(df)\n",
    "#print(df)\n",
    "df_master = pd.concat(df, axis=0)\n",
    "output_path = os.path.join(dataOutputFolder, masterFile)\n",
    "df_master.to_excel(output_path, sheet_name = masterFile, index=False)"
   ]
  },
  {
   "cell_type": "code",
   "execution_count": null,
   "metadata": {},
   "outputs": [],
   "source": []
  }
 ],
 "metadata": {
  "kernelspec": {
   "display_name": "ArcGISPro",
   "language": "Python",
   "name": "python3"
  },
  "language_info": {
   "file_extension": ".py",
   "name": "python",
   "version": "3"
  }
 },
 "nbformat": 4,
 "nbformat_minor": 2
}
