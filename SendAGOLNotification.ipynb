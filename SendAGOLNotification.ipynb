{
 "cells": [
  {
   "cell_type": "markdown",
   "metadata": {},
   "source": [
    "## Send a notification\n"
   ]
  },
  {
   "cell_type": "markdown",
   "metadata": {},
   "source": [
    "#### Run this cell to connect to your GIS and get started:"
   ]
  },
  {
   "cell_type": "code",
   "execution_count": 3,
   "metadata": {
    "scrolled": false
   },
   "outputs": [
    {
     "name": "stderr",
     "output_type": "stream",
     "text": [
      "/opt/conda/lib/python3.6/site-packages/arcgis/gis/__init__.py:389: UserWarning: You are logged on as michael_rich with an administrator role, proceed with caution.\n",
      "  self.users.me.username)\n"
     ]
    }
   ],
   "source": [
    "import json\n",
    "import datetime  \n",
    "\n",
    "from arcgis.gis import GIS\n",
    "gis = GIS(\"home\")\n",
    "\n",
    "def convertUnixTime(value):\n",
    "        date = datetime.datetime.utcfromtimestamp(value)\n",
    "        #return date.strftime('%Y-%m-%d')\n",
    "        return date.strftime('%x-%X')\n"
   ]
  },
  {
   "cell_type": "markdown",
   "metadata": {},
   "source": [
    "## Send User notification"
   ]
  },
  {
   "cell_type": "code",
   "execution_count": null,
   "metadata": {
    "scrolled": false
   },
   "outputs": [],
   "source": [
    "def notify_user(username):\n",
    "    userList = gis.users.search(query=username)\n",
    "    for user in userList:\n",
    "\n",
    "        message = f'<p><img src=\"https://usfs.maps.arcgis.com/sharing/rest/content/items/9da08d7fad6e4b4d9ec43a7c21bee15c/data\" alt=\"US forest service logo\" width=\"559\" height=\"190\" />'\\\n",
    "        '<p><h1>New USFS ArcGIS Online Account Test Email</h1></p><hr/></p><p>Hello,</p>'\\\n",
    "        f'<p>THIS IS A TEST EMAIL, DO NOT REPLY</p>'\\\n",
    "        f'<p>{user.fullName}, your account at <a href=\"https://usfs.maps.arcgis.com/home\" target=\"_blank\" rel=\"noopener\">U.S. Forest Service ArcGIS Online</a> was recently created.</p>'\\\n",
    "        '<p><h2>What You Need to Do</h2></p>'\\\n",
    "        f'<p>Your account username is: <strong>{user.username}</strong></p>'\\\n",
    "        f'<p>*This is an auto-generated email, please do not reply.</strong></p>'\\\n",
    "        '<p><h3>Help is Available</h3></p>'\\\n",
    "        '<p>To contact a regional ArcGIS Online administrator please visit <strong>usdagcc.sharepoint.com/sites/fs-cio-webgis/Lists/RSA%20%20AGOL%20Administrators/AllItems.aspx</strong></p>'\\\n",
    "        '<p>For Web GIS information please visit <strong>usdagcc.sharepoint.com/sites/fs-cio-webgis</strong></p>'\\\n",
    "        '<p>For ArcGIS Pro information please visit <strong>usdagcc.sharepoint.com/sites/fs-eng-agisp/arcgispro</strong></p>'\\\n",
    "        '<p>For additional information about the Geospatial Services Branch, please visit <strong>fsweb.wo.fs.fed.us/cio/mission-support-systems/geospatial</strong></p>'\\\n",
    "        '<p>For technical help contact the GIS Help Desk at <strong>usdacts-myit.fed.onbmc.com/dwp/app/#/itemprofile/13302</strong></p>'\\\n",
    "        \n",
    "        gis.users.send_notification([user],'New USFS ArcGIS Online account',message, type='email')"
   ]
  },
  {
   "cell_type": "markdown",
   "metadata": {},
   "source": [
    "## Code for testing"
   ]
  },
  {
   "cell_type": "code",
   "execution_count": null,
   "metadata": {},
   "outputs": [],
   "source": [
    "##  CODE BELOW IS FOR TESTING\n",
    "\n",
    "## use a python list of AGOL usernames separated by commas to send the email to\n",
    "testList = ['michael_rich']\n",
    "for user in testList:\n",
    "    notify_user(user)"
   ]
  }
 ],
 "metadata": {
  "esriNotebookRuntime": {
   "notebookRuntimeName": "ArcGIS Notebook Python 3 Advanced",
   "notebookRuntimeVersion": "3.0"
  },
  "kernelspec": {
   "display_name": "ArcGISPro",
   "language": "Python",
   "name": "python3"
  },
  "language_info": {
   "file_extension": ".py",
   "name": "python",
   "version": "3"
  }
 },
 "nbformat": 4,
 "nbformat_minor": 2
}
